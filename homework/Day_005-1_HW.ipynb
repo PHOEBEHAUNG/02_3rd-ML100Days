{
 "cells": [
  {
   "cell_type": "markdown",
   "metadata": {},
   "source": [
    "# [作業目標]\n",
    "- 利用範例的創建方式, 創建一組資料, 並練習如何取出最大值"
   ]
  },
  {
   "cell_type": "markdown",
   "metadata": {},
   "source": [
    "# [作業重點]\n",
    "- 練習創立 DataFrame (In[2])\n",
    "- 如何取出口數最多的國家 (In[3], Out[3])"
   ]
  },
  {
   "cell_type": "markdown",
   "metadata": {},
   "source": [
    "## 練習時間\n",
    "在小量的資料上，我們用眼睛就可以看得出來程式碼是否有跑出我們理想中的結果\n",
    "\n",
    "請嘗試想像一個你需要的資料結構 (裡面的值可以是隨機的)，然後用上述的方法把它變成 pandas DataFrame\n",
    "\n",
    "#### Ex: 想像一個 dataframe 有兩個欄位，一個是國家，一個是人口，求人口數最多的國家\n",
    "\n",
    "### Hints: [隨機產生數值](https://blog.csdn.net/christianashannon/article/details/78867204)"
   ]
  },
  {
   "cell_type": "code",
   "execution_count": 1,
   "metadata": {},
   "outputs": [],
   "source": [
    "import pandas as pd\n",
    "import numpy as np"
   ]
  },
  {
   "cell_type": "code",
   "execution_count": 5,
   "metadata": {},
   "outputs": [
    {
     "name": "stdout",
     "output_type": "stream",
     "text": [
      "          國家     人口數\n",
      "0         US  776522\n",
      "1         UK  422512\n",
      "2     Taiwan  213628\n",
      "3      Japan  569309\n",
      "4    Germany  213397\n",
      "5     Franch  900200\n",
      "6      Italy  612489\n",
      "7      Korea  317151\n",
      "8   Malaysia  904858\n",
      "9  Singapore  499393\n"
     ]
    }
   ],
   "source": [
    "cities = ['US', 'UK', 'Taiwan', 'Japan', 'Germany', 'Franch', 'Italy', 'Korea', 'Malaysia', 'Singapore']\n",
    "\n",
    "population = []\n",
    "value = 0\n",
    "\n",
    "for i in range(0, 10):\n",
    "    value = np.random.rand(1)[0]\n",
    "    value = value * 1000000\n",
    "    population.append(int(value))\n",
    "    \n",
    "list_labels = ['國家', '人口數']\n",
    "list_cols = [cities, population]\n",
    "\n",
    "zipped = list(zip(list_labels, list_cols))\n",
    "\n",
    "data = pd.DataFrame(dict(zipped))\n",
    "print(data)\n"
   ]
  },
  {
   "cell_type": "code",
   "execution_count": 37,
   "metadata": {},
   "outputs": [
    {
     "name": "stdout",
     "output_type": "stream",
     "text": [
      "key 904858, value 904858 \n",
      "Max population : 904858\n",
      "Max Population Country is Malaysia, population is : 904858\n"
     ]
    }
   ],
   "source": [
    "group_class = data.groupby(\"人口數\")\n",
    "group_class.groups\n",
    "    \n",
    "maxNums = group_class.groups.keys()\n",
    "\n",
    "for x in list(maxNums)[9:10]:\n",
    "    maxNum = x\n",
    "    print (\"key {}, value {} \".format(x,  x))\n",
    "    \n",
    "print('Max population : ' + str(maxNum))\n",
    "\n",
    "index = 0\n",
    "for i in range(10):\n",
    "    if maxNum == population[i]:\n",
    "        break\n",
    "    if index == (10 - 1):\n",
    "        break\n",
    "    index = index + 1\n",
    "\n",
    "print('Max Population Country is ' + cities[index] + ', population is : '+ str(population[index]))"
   ]
  }
 ],
 "metadata": {
  "kernelspec": {
   "display_name": "Python 3",
   "language": "python",
   "name": "python3"
  },
  "language_info": {
   "codemirror_mode": {
    "name": "ipython",
    "version": 3
   },
   "file_extension": ".py",
   "mimetype": "text/x-python",
   "name": "python",
   "nbconvert_exporter": "python",
   "pygments_lexer": "ipython3",
   "version": "3.7.2"
  }
 },
 "nbformat": 4,
 "nbformat_minor": 2
}
