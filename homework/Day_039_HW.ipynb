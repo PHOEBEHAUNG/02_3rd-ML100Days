{
 "cells": [
  {
   "cell_type": "markdown",
   "metadata": {},
   "source": [
    "## [作業重點]\n",
    "清楚了解 L1, L2 的意義與差異為何，並了解 LASSO 與 Ridge 之間的差異與使用情境"
   ]
  },
  {
   "cell_type": "markdown",
   "metadata": {},
   "source": [
    "## 作業"
   ]
  },
  {
   "cell_type": "markdown",
   "metadata": {},
   "source": [
    "請閱讀相關文獻，並回答下列問題\n",
    "\n",
    "[脊回歸 (Ridge Regression)](https://blog.csdn.net/daunxx/article/details/51578787)\n",
    "[Linear, Ridge, Lasso Regression 本質區別](https://www.zhihu.com/question/38121173)\n",
    "\n",
    "1. LASSO 回歸可以被用來作為 Feature selection 的工具，請了解 LASSO 模型為什麼可用來作 Feature selection\n",
    "2. 當自變數 (X) 存在高度共線性時，Ridge Regression 可以處理這樣的問題嗎?\n"
   ]
  },
  {
   "cell_type": "code",
   "execution_count": null,
   "metadata": {},
   "outputs": [],
   "source": [
    "1. LASSO 回歸可以被用來作為 Feature selection 的工具，請了解 LASSO 模型為什麼可用來作 Feature selection\n",
    "LASSO 模型的係數有機會 shrinkage 到 0 ，有稀疏解的特性，進而可達到 Feature selection 的作用\n",
    "2. 當自變數 (X) 存在高度共線性時，Ridge Regression 可以處理這樣的問題嗎?\n",
    "可以，會透過L2正規化來解決\n",
    "如果用最小二乘法計算線性回歸模型參數的時候，數據集合矩陣（ 也叫做設計矩陣(design matrix) ）X，存在多重共線性，\n",
    "那麼最小二乘法對輸入變量中的噪聲非常的敏感，其解會極為不穩定。為了解決這個問題，就有了這一節脊回歸（ Ridge Regression ）。\n",
    "當設計矩陣X存在多重共線性的時候（數學上稱為病態矩陣），\n",
    "最小二乘法求得的參數w在數值上會非常的大，而一般的線性回歸其模型是image.png，\n",
    "顯然，就是因為w在數值上非常的大，所以，如果輸入變量x有一個微小的變動，其反應在輸出結果上也會變得非常大，\n",
    "這就是對輸入變量總的噪聲非常敏感的原因。如果能限制參數w的增長，使w不會變得特別大，那麼模型對輸入w中噪聲的敏感度就會降低。\n",
    "這就是脊回歸和套索回歸（Ridge Regression and Lasso Regrission）的基本思想。\n",
    "為了限制模型參數w的數值大小，就在模型原來的目標函數上加上一個懲罰項，這個過程叫做正則化（Regularization）。"
   ]
  }
 ],
 "metadata": {
  "kernelspec": {
   "display_name": "Python 3",
   "language": "python",
   "name": "python3"
  },
  "language_info": {
   "codemirror_mode": {
    "name": "ipython",
    "version": 3
   },
   "file_extension": ".py",
   "mimetype": "text/x-python",
   "name": "python",
   "nbconvert_exporter": "python",
   "pygments_lexer": "ipython3",
   "version": "3.7.3"
  }
 },
 "nbformat": 4,
 "nbformat_minor": 2
}
