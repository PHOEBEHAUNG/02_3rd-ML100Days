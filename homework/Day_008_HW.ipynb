{
 "cells": [
  {
   "cell_type": "markdown",
   "metadata": {},
   "source": [
    "# [作業目標]\n",
    "- 對資料做更多處理 : 顯示特定欄位的統計值與直方圖"
   ]
  },
  {
   "cell_type": "markdown",
   "metadata": {},
   "source": [
    "# [作業重點]\n",
    "- 試著顯示特定欄位的基礎統計數值 (In[4], Out[4], Hint : describe())\n",
    "- 試著顯示特定欄位的直方圖 (In[5], Out[5], Hint : .hist())"
   ]
  },
  {
   "cell_type": "code",
   "execution_count": 1,
   "metadata": {},
   "outputs": [],
   "source": [
    "# Import 需要的套件\n",
    "import os\n",
    "import numpy as np\n",
    "import pandas as pd\n",
    "\n",
    "# 設定 data_path\n",
    "dir_data = './data/'"
   ]
  },
  {
   "cell_type": "code",
   "execution_count": null,
   "metadata": {},
   "outputs": [],
   "source": [
    "f_app_train = os.path.join(dir_data, 'application_train.csv')\n",
    "app_train = pd.read_csv(f_app_train)\n",
    "\n",
    "minder_contact = app_train[(app_train['NAME_CONTRACT_TYPE'] == 'Revolving loans') & (app_train['NAME_INCOME_TYPE'] == 'State servant')]\n",
    "print(minder_contact['CNT_CHILDREN'].describe())\n",
    "print(minder_contact['CNT_CHILDREN'].mean())\n",
    "\n",
    "minder_contact = minder_contact[['CNT_CHILDREN']]\n",
    "minder_contact.plot(kind = 'hist')\n",
    "#app_trasub_train = pd.DataFrame(minder_contact)\n",
    "#app_trasub_train.plot()\n",
    "#print(np.random.randn(2, 4).cumsum(1))\n",
    "#df = pd.DataFrame(np.random.randn(2, 4).cumsum(1), columns=['A', 'B', 'C', 'D'], index=np.arange(0, 20, 10))\n",
    "#df.plot()\n"
   ]
  },
  {
   "cell_type": "code",
   "execution_count": null,
   "metadata": {},
   "outputs": [],
   "source": [
    "import matplotlib.pyplot as plt\n",
    "%matplotlib inline"
   ]
  },
  {
   "cell_type": "markdown",
   "metadata": {},
   "source": [
    "## 練習時間"
   ]
  },
  {
   "cell_type": "markdown",
   "metadata": {},
   "source": [
    "觀察有興趣的欄位的資料分佈，並嘗試找出有趣的訊息\n",
    "#### Eg\n",
    "- 計算任意欄位的平均數及標準差\n",
    "- 畫出任意欄位的[直方圖](https://zh.wikipedia.org/zh-tw/%E7%9B%B4%E6%96%B9%E5%9B%BE)\n",
    "\n",
    "### Hints:\n",
    "- [Descriptive Statistics For pandas Dataframe](https://chrisalbon.com/python/data_wrangling/pandas_dataframe_descriptive_stats/)\n",
    "- [pandas 中的繪圖函數](https://amaozhao.gitbooks.io/pandas-notebook/content/pandas%E4%B8%AD%E7%9A%84%E7%BB%98%E5%9B%BE%E5%87%BD%E6%95%B0.html)\n"
   ]
  },
  {
   "cell_type": "code",
   "execution_count": 2,
   "metadata": {},
   "outputs": [
    {
     "name": "stdout",
     "output_type": "stream",
     "text": [
      "count    1867.000000\n",
      "mean        0.635779\n",
      "std         0.833493\n",
      "min         0.000000\n",
      "25%         0.000000\n",
      "50%         0.000000\n",
      "75%         1.000000\n",
      "max         5.000000\n",
      "Name: CNT_CHILDREN, dtype: float64\n",
      "標準差是：0.8334929989855773\n",
      "平均數是：0.6357793251205142\n"
     ]
    },
    {
     "data": {
      "text/plain": [
       "<matplotlib.axes._subplots.AxesSubplot at 0x11c6a5898>"
      ]
     },
     "execution_count": 2,
     "metadata": {},
     "output_type": "execute_result"
    }
   ],
   "source": [
    "f_app_train = os.path.join(dir_data, 'application_train.csv')\n",
    "app_train = pd.read_csv(f_app_train)\n",
    "\n",
    "minder_contact = app_train[(app_train['NAME_CONTRACT_TYPE'] == 'Revolving loans') & (app_train['NAME_INCOME_TYPE'] == 'State servant')]\n",
    "print(minder_contact['CNT_CHILDREN'].describe())\n",
    "print(\"標準差是：\" + str(minder_contact['CNT_CHILDREN'].std()))\n",
    "print(\"平均數是：\" + str(minder_contact['CNT_CHILDREN'].mean()))\n",
    "\n",
    "minder_contact = minder_contact[['CNT_CHILDREN']]\n",
    "minder_contact.plot(kind = 'hist')"
   ]
  }
 ],
 "metadata": {
  "kernelspec": {
   "display_name": "Python 3",
   "language": "python",
   "name": "python3"
  },
  "language_info": {
   "codemirror_mode": {
    "name": "ipython",
    "version": 3
   },
   "file_extension": ".py",
   "mimetype": "text/x-python",
   "name": "python",
   "nbconvert_exporter": "python",
   "pygments_lexer": "ipython3",
   "version": "3.7.2"
  }
 },
 "nbformat": 4,
 "nbformat_minor": 2
}
