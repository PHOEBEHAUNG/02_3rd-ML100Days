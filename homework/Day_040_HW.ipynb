{
 "cells": [
  {
   "cell_type": "markdown",
   "metadata": {},
   "source": [
    "## [作業重點]\n",
    "使用 Sklearn 中的 Lasso, Ridge 模型，來訓練各種資料集，務必了解送進去模型訓練的**資料型態**為何，也請了解模型中各項參數的意義。\n",
    "\n",
    "機器學習的模型非常多種，但要訓練的資料多半有固定的格式，確保你了解訓練資料的格式為何，這樣在應用新模型時，就能夠最快的上手開始訓練！"
   ]
  },
  {
   "cell_type": "markdown",
   "metadata": {},
   "source": [
    "## 練習時間\n",
    "試著使用 sklearn datasets 的其他資料集 (boston, ...)，來訓練自己的線性迴歸模型，並加上適當的正則化來觀察訓練情形。"
   ]
  },
  {
   "cell_type": "code",
   "execution_count": 62,
   "metadata": {},
   "outputs": [],
   "source": [
    "import numpy as np\n",
    "import matplotlib.pyplot as plt\n",
    "from sklearn import datasets, linear_model\n",
    "from sklearn.model_selection import train_test_split\n",
    "from sklearn.metrics import mean_squared_error, r2_score\n",
    "%matplotlib inline"
   ]
  },
  {
   "cell_type": "code",
   "execution_count": 63,
   "metadata": {},
   "outputs": [
    {
     "name": "stdout",
     "output_type": "stream",
     "text": [
      "{'data': array([[  5., 162.,  60.],\n",
      "       [  2., 110.,  60.],\n",
      "       [ 12., 101., 101.],\n",
      "       [ 12., 105.,  37.],\n",
      "       [ 13., 155.,  58.],\n",
      "       [  4., 101.,  42.],\n",
      "       [  8., 101.,  38.],\n",
      "       [  6., 125.,  40.],\n",
      "       [ 15., 200.,  40.],\n",
      "       [ 17., 251., 250.],\n",
      "       [ 17., 120.,  38.],\n",
      "       [ 13., 210., 115.],\n",
      "       [ 14., 215., 105.],\n",
      "       [  1.,  50.,  50.],\n",
      "       [  6.,  70.,  31.],\n",
      "       [ 12., 210., 120.],\n",
      "       [  4.,  60.,  25.],\n",
      "       [ 11., 230.,  80.],\n",
      "       [ 15., 225.,  73.],\n",
      "       [  2., 110.,  43.]]), 'feature_names': ['Chins', 'Situps', 'Jumps'], 'target': array([[191.,  36.,  50.],\n",
      "       [189.,  37.,  52.],\n",
      "       [193.,  38.,  58.],\n",
      "       [162.,  35.,  62.],\n",
      "       [189.,  35.,  46.],\n",
      "       [182.,  36.,  56.],\n",
      "       [211.,  38.,  56.],\n",
      "       [167.,  34.,  60.],\n",
      "       [176.,  31.,  74.],\n",
      "       [154.,  33.,  56.],\n",
      "       [169.,  34.,  50.],\n",
      "       [166.,  33.,  52.],\n",
      "       [154.,  34.,  64.],\n",
      "       [247.,  46.,  50.],\n",
      "       [193.,  36.,  46.],\n",
      "       [202.,  37.,  62.],\n",
      "       [176.,  37.,  54.],\n",
      "       [157.,  32.,  52.],\n",
      "       [156.,  33.,  54.],\n",
      "       [138.,  33.,  68.]]), 'target_names': ['Weight', 'Waist', 'Pulse'], 'DESCR': '.. _linnerrud_dataset:\\n\\nLinnerrud dataset\\n-----------------\\n\\n**Data Set Characteristics:**\\n\\n    :Number of Instances: 20\\n    :Number of Attributes: 3\\n    :Missing Attribute Values: None\\n\\nThe Linnerud dataset constains two small dataset:\\n\\n- *physiological* - CSV containing 20 observations on 3 exercise variables:\\n   Weight, Waist and Pulse.\\n\\n- *exercise* - CSV containing 20 observations on 3 physiological variables:\\n   Chins, Situps and Jumps.\\n\\n.. topic:: References\\n\\n  * Tenenhaus, M. (1998). La regression PLS: theorie et pratique. Paris: Editions Technic.\\n', 'data_filename': '/Users/huangxiuzhen/anaconda3/lib/python3.7/site-packages/sklearn/datasets/data/linnerud_exercise.csv', 'target_filename': '/Users/huangxiuzhen/anaconda3/lib/python3.7/site-packages/sklearn/datasets/data/linnerud_physiological.csv'}\n"
     ]
    },
    {
     "data": {
      "image/png": "[encoded data removed]",
      "text/plain": [
       "<Figure size 432x288 with 1 Axes>"
      ]
     },
     "metadata": {
      "needs_background": "light"
     },
     "output_type": "display_data"
    }
   ],
   "source": [
    "linnerud = datasets.load_linnerud()\n",
    "\n",
    "print(linnerud) \n",
    "plt.plot(linnerud.data[:, np.newaxis, 1])\n",
    "plt.plot(linnerud.target[:, np.newaxis, 1])\n",
    "\n",
    "data = linnerud.data\n",
    "target = linnerud.target\n",
    "\n",
    "# 切分訓練集/測試集\n",
    "x_train, x_test, y_train, y_test = train_test_split(data, target, test_size=0.2, random_state=4)\n",
    "\n",
    "# 建立一個線性回歸模型\n",
    "regr = linear_model.LinearRegression()\n",
    "\n",
    "# 將訓練資料丟進去模型訓練\n",
    "regr.fit(x_train, y_train)\n",
    "\n",
    "# 將測試資料丟進模型得到預測結果\n",
    "y_pred = regr.predict(x_test)"
   ]
  },
  {
   "cell_type": "code",
   "execution_count": 64,
   "metadata": {},
   "outputs": [
    {
     "name": "stdout",
     "output_type": "stream",
     "text": [
      "[[-1.28756417 -0.18005567  0.0724611 ]\n",
      " [-0.23553638 -0.03945105  0.03009547]\n",
      " [ 0.17356644  0.05247911 -0.03166777]]\n"
     ]
    }
   ],
   "source": [
    "print(regr.coef_)"
   ]
  },
  {
   "cell_type": "code",
   "execution_count": 65,
   "metadata": {},
   "outputs": [
    {
     "name": "stdout",
     "output_type": "stream",
     "text": [
      "Mean squared error: 386.15\n"
     ]
    }
   ],
   "source": [
    "# 預測值與實際值的差距，使用 MSE\n",
    "print(\"Mean squared error: %.2f\"\n",
    "      % mean_squared_error(y_test, y_pred))"
   ]
  },
  {
   "cell_type": "code",
   "execution_count": 72,
   "metadata": {},
   "outputs": [],
   "source": [
    "# lass0\n",
    "# 切分訓練集/測試集\n",
    "x_train, x_test, y_train, y_test = train_test_split(data, target, test_size=0.2, random_state=4)\n",
    "\n",
    "# 建立一個線性回歸模型\n",
    "lasso = linear_model.Lasso(alpha=10.0)\n",
    "\n",
    "# 將訓練資料丟進去模型訓練\n",
    "lasso.fit(x_train, y_train)\n",
    "\n",
    "# 將測試資料丟進模型得到預測結果\n",
    "y_pred = lasso.predict(x_test)"
   ]
  },
  {
   "cell_type": "code",
   "execution_count": 73,
   "metadata": {},
   "outputs": [
    {
     "data": {
      "text/plain": [
       "array([[-0.58221842, -0.20958465,  0.05634205],\n",
       "       [-0.        , -0.04376079,  0.01805997],\n",
       "       [ 0.        ,  0.05346042, -0.02016942]])"
      ]
     },
     "execution_count": 73,
     "metadata": {},
     "output_type": "execute_result"
    }
   ],
   "source": [
    "lasso.coef_"
   ]
  },
  {
   "cell_type": "code",
   "execution_count": 74,
   "metadata": {},
   "outputs": [
    {
     "name": "stdout",
     "output_type": "stream",
     "text": [
      "Mean squared error: 361.89\n"
     ]
    }
   ],
   "source": [
    "# 預測值與實際值的差距，使用 MSE\n",
    "print(\"Mean squared error: %.2f\"\n",
    "      % mean_squared_error(y_test, y_pred))"
   ]
  },
  {
   "cell_type": "code",
   "execution_count": 75,
   "metadata": {},
   "outputs": [],
   "source": [
    "#ridge \n",
    "# 切分訓練集/測試集\n",
    "x_train, x_test, y_train, y_test = train_test_split(data, target, test_size=0.2, random_state=4)\n",
    "\n",
    "# 建立一個線性回歸模型\n",
    "ridge = linear_model.Ridge(alpha=10.0)\n",
    "\n",
    "# 將訓練資料丟進去模型訓練\n",
    "ridge.fit(x_train, y_train)\n",
    "\n",
    "# 將測試資料丟進模型得到預測結果\n",
    "y_pred = regr.predict(x_test)"
   ]
  },
  {
   "cell_type": "code",
   "execution_count": 76,
   "metadata": {},
   "outputs": [
    {
     "name": "stdout",
     "output_type": "stream",
     "text": [
      "[[-1.231163   -0.18301286  0.07190008]\n",
      " [-0.22522776 -0.03998578  0.02998478]\n",
      " [ 0.16602179  0.05286138 -0.03157755]]\n"
     ]
    }
   ],
   "source": [
    "# 印出 Ridge 的參數，可以很明顯看到比起 Linear Regression，參數的數值都明顯小了許多\n",
    "print(ridge.coef_)"
   ]
  },
  {
   "cell_type": "code",
   "execution_count": 77,
   "metadata": {},
   "outputs": [
    {
     "name": "stdout",
     "output_type": "stream",
     "text": [
      "Mean squared error: 386.15\n"
     ]
    }
   ],
   "source": [
    "# 預測值與實際值的差距，使用 MSE\n",
    "print(\"Mean squared error: %.2f\"\n",
    "      % mean_squared_error(y_test, y_pred))"
   ]
  },
  {
   "cell_type": "code",
   "execution_count": null,
   "metadata": {},
   "outputs": [],
   "source": []
  }
 ],
 "metadata": {
  "kernelspec": {
   "display_name": "Python 3",
   "language": "python",
   "name": "python3"
  },
  "language_info": {
   "codemirror_mode": {
    "name": "ipython",
    "version": 3
   },
   "file_extension": ".py",
   "mimetype": "text/x-python",
   "name": "python",
   "nbconvert_exporter": "python",
   "pygments_lexer": "ipython3",
   "version": "3.7.3"
  }
 },
 "nbformat": 4,
 "nbformat_minor": 2
}
